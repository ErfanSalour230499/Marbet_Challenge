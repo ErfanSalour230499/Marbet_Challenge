{
 "cells": [
  {
   "cell_type": "code",
   "execution_count": 2,
   "id": "f40f9084",
   "metadata": {},
   "outputs": [],
   "source": [
    "import langchain\n",
    "import chromadb\n",
    "import unstructured\n",
    "import pypdf\n",
    "import fitz  \n",
    "import os\n",
    "import numpy\n",
    "\n"
   ]
  },
  {
   "cell_type": "code",
   "execution_count": 3,
   "id": "5a017469",
   "metadata": {},
   "outputs": [
    {
     "name": "stdout",
     "output_type": "stream",
     "text": [
      " Processing  file6.pdf...\n",
      " Processing  file7.pdf...\n",
      "\n",
      " Extracted 43 image(s) from file6.pdf and file7.pdf into extracted_images/\n"
     ]
    }
   ],
   "source": [
    "import fitz  \n",
    "import os\n",
    "\n",
    "pdf_files = [' file6.pdf', ' file7.pdf']\n",
    "\n",
    "output_folder = \"extracted_images\"\n",
    "\n",
    "os.makedirs(output_folder, exist_ok=True)\n",
    "image_count = 0\n",
    "\n",
    "for pdf_path in pdf_files:\n",
    "    doc = fitz.open(pdf_path)\n",
    "    print(f\" Processing {pdf_path}...\")\n",
    "\n",
    "    for page_num in range(len(doc)):\n",
    "        page = doc[page_num]\n",
    "        images = page.get_images(full=True)\n",
    "\n",
    "        for img_index, img in enumerate(images):\n",
    "            xref = img[0]\n",
    "            base_image = doc.extract_image(xref)\n",
    "            image_bytes = base_image[\"image\"]\n",
    "            image_ext = base_image[\"ext\"]\n",
    "            file_name = os.path.basename(pdf_path).replace(\".pdf\", \"\")\n",
    "            image_filename = f\"{output_folder}/{file_name}_page{page_num+1}_img{img_index+1}.{image_ext}\"\n",
    "\n",
    "            with open(image_filename, \"wb\") as f:\n",
    "                f.write(image_bytes)\n",
    "            image_count += 1\n",
    "\n",
    "print(f\"\\n Extracted {image_count} image(s) from file6.pdf and file7.pdf into {output_folder}/\")\n"
   ]
  },
  {
   "cell_type": "code",
   "execution_count": 4,
   "id": "7d74910e",
   "metadata": {},
   "outputs": [
    {
     "name": "stdout",
     "output_type": "stream",
     "text": [
      " Clean text saved:  file6.txt\n",
      " Clean text saved:  file7.txt\n",
      " Clean text saved:  file4.txt\n",
      " Clean text saved:  file1.txt\n",
      " Clean text saved:  file3.txt\n",
      " Clean text saved:  file2.txt\n"
     ]
    }
   ],
   "source": [
    "from langchain_community.document_loaders import PyPDFLoader\n",
    "import os\n",
    "\n",
    "pdf_folder = \"/Users/apple/Documents/GitHub/Marbet_Challenge/rag_bot\"\n",
    "pdf_files = [f for f in os.listdir(pdf_folder) if f.endswith(\".pdf\")]\n",
    "\n",
    "output_folder = os.path.join(pdf_folder, \"extracted_texts\")\n",
    "os.makedirs(output_folder, exist_ok=True)\n",
    "\n",
    "for filename in pdf_files:\n",
    "    pdf_path = os.path.join(pdf_folder, filename)\n",
    "    loader = PyPDFLoader(pdf_path)\n",
    "    docs = loader.load()\n",
    "\n",
    "    combined_text = \"\\n\\n\".join([doc.page_content.strip() for doc in docs])\n",
    "\n",
    "    txt_filename = os.path.splitext(filename)[0] + \".txt\"\n",
    "    output_path = os.path.join(output_folder, txt_filename)\n",
    "\n",
    "    with open(output_path, \"w\", encoding=\"utf-8\") as f:\n",
    "        f.write(combined_text)\n",
    "\n",
    "    print(f\" Clean text saved: {txt_filename}\")\n"
   ]
  },
  {
   "cell_type": "code",
   "execution_count": 5,
   "id": "7a061cb9",
   "metadata": {},
   "outputs": [
    {
     "name": "stdout",
     "output_type": "stream",
     "text": [
      "All files merged into combined_txt.txt\n"
     ]
    }
   ],
   "source": [
    "folder_path = \"/Users/apple/Documents/GitHub/Marbet_Challenge/rag_bot/extracted_texts\"\n",
    "\n",
    "file_names = [\n",
    "    \"guest_WiFi_access.txt\",\n",
    "    \"A-Z_Listing.txt\",\n",
    "    \"Checklist.txt\",\n",
    "    \"SPA_services.txt\",\n",
    "    \"application_process.txt\",\n",
    "    \"entry_Canada.txt\"\n",
    "]\n",
    "\n",
    "output_path = os.path.join(folder_path, \"combined_txt.txt\")\n",
    "\n",
    "with open(output_path, \"w\", encoding=\"utf-8\") as outfile:\n",
    "    for fname in file_names:\n",
    "        file_path = os.path.join(folder_path, fname)\n",
    "        with open(file_path, \"r\", encoding=\"utf-8\") as infile:\n",
    "            outfile.write(f\"\\n\\n--- {fname.replace('.txt','')} ---\\n\\n\")  \n",
    "            outfile.write(infile.read())\n",
    "            outfile.write(\"\\n\")\n",
    "\n",
    "print(\"All files merged into combined_txt.txt\")"
   ]
  },
  {
   "cell_type": "code",
   "execution_count": 6,
   "id": "d44eb985",
   "metadata": {},
   "outputs": [],
   "source": [
    "from langchain_ollama import ChatOllama\n",
    "from langchain.document_loaders import TextLoader\n",
    "from langchain.text_splitter import RecursiveCharacterTextSplitter\n",
    "from langchain.embeddings import OllamaEmbeddings\n",
    "from langchain_community.vectorstores import DocArrayInMemorySearch\n",
    "from langchain.prompts import PromptTemplate\n",
    "from langchain.chains import LLMChain\n"
   ]
  },
  {
   "cell_type": "code",
   "execution_count": 9,
   "id": "9e25bd84",
   "metadata": {},
   "outputs": [
    {
     "name": "stdout",
     "output_type": "stream",
     "text": [
      "content='' additional_kwargs={} response_metadata={'model': 'llama3.2', 'created_at': '2025-04-25T11:44:59.697610161Z', 'done': True, 'done_reason': 'stop', 'total_duration': 2982094032, 'load_duration': 2896783671, 'prompt_eval_count': 85, 'prompt_eval_duration': 29557000, 'eval_count': 1, 'eval_duration': 28000, 'model_name': 'llama3.2'} id='run-37169ce1-3daa-493e-b753-ec794fc21c80-0' usage_metadata={'input_tokens': 85, 'output_tokens': 1, 'total_tokens': 86}\n"
     ]
    }
   ],
   "source": [
    "model = ChatOllama(\n",
    "    base_url=\"http://194.171.191.226:3061\",\n",
    "    model=\"llama3.2\",\n",
    "    temperature=0.7,\n",
    "    num_predict=512,\n",
    "    repeat_penalty=1.2,\n",
    ")\n",
    "\n",
    "messages = [\n",
    "    (\"system\",\n",
    "     \"You are the AI core of **Marbet Bot**, a Python service that \"\n",
    "     \"analyzes sports odds and generates betting tips. \"\n",
    "     \"Always:\\n\"\n",
    "     \" • explain in short, clear paragraphs\\n\"\n",
    "     \" • use bullet lists for steps or data outputs\\n\"\n",
    "     \" • speak as if you know Marbet Bot’s codebase and architecture\\n\"\n",
    "     \" • ask for missing details about data sources or endpoints\\n\")\n",
    "]\n",
    "\n",
    "ai_msg = model.invoke(messages)\n",
    "print(ai_msg)"
   ]
  },
  {
   "cell_type": "code",
   "execution_count": 10,
   "id": "b96e70e9",
   "metadata": {},
   "outputs": [],
   "source": [
    "filepath = \"/Users/apple/Documents/GitHub/Marbet_Challenge/rag_bot/combined_txt.txt\"\n",
    "loader = TextLoader(filepath)\n",
    "docs = loader.load()\n",
    "\n",
    "splitter = RecursiveCharacterTextSplitter(chunk_size=500, chunk_overlap=50)\n",
    "content = splitter.split_documents(docs)\n"
   ]
  },
  {
   "cell_type": "code",
   "execution_count": 11,
   "id": "cfd285d5",
   "metadata": {},
   "outputs": [
    {
     "name": "stderr",
     "output_type": "stream",
     "text": [
      "/var/folders/p4/qvcmr5mj6kgbm2y6xz9gvs1h0000gn/T/ipykernel_30150/3255613910.py:1: LangChainDeprecationWarning: The class `OllamaEmbeddings` was deprecated in LangChain 0.3.1 and will be removed in 1.0.0. An updated version of the class exists in the :class:`~langchain-ollama package and should be used instead. To use it run `pip install -U :class:`~langchain-ollama` and import as `from :class:`~langchain_ollama import OllamaEmbeddings``.\n",
      "  embedding = OllamaEmbeddings(model=\"mxbai-embed-large:latest\")\n",
      "\n",
      "A module that was compiled using NumPy 1.x cannot be run in\n",
      "NumPy 2.2.5 as it may crash. To support both 1.x and 2.x\n",
      "versions of NumPy, modules must be compiled with NumPy 2.0.\n",
      "Some module may need to rebuild instead e.g. with 'pybind11>=2.12'.\n",
      "\n",
      "If you are a user of the module, the easiest solution will be to\n",
      "downgrade to 'numpy<2' or try to upgrade the affected module.\n",
      "We expect that some modules will need time to support NumPy 2.\n",
      "\n",
      "Traceback (most recent call last):  File \"/opt/anaconda3/envs/marbet/lib/python3.10/runpy.py\", line 196, in _run_module_as_main\n",
      "    return _run_code(code, main_globals, None,\n",
      "  File \"/opt/anaconda3/envs/marbet/lib/python3.10/runpy.py\", line 86, in _run_code\n",
      "    exec(code, run_globals)\n",
      "  File \"/opt/anaconda3/envs/marbet/lib/python3.10/site-packages/ipykernel_launcher.py\", line 18, in <module>\n",
      "    app.launch_new_instance()\n",
      "  File \"/opt/anaconda3/envs/marbet/lib/python3.10/site-packages/traitlets/config/application.py\", line 1075, in launch_instance\n",
      "    app.start()\n",
      "  File \"/opt/anaconda3/envs/marbet/lib/python3.10/site-packages/ipykernel/kernelapp.py\", line 739, in start\n",
      "    self.io_loop.start()\n",
      "  File \"/opt/anaconda3/envs/marbet/lib/python3.10/site-packages/tornado/platform/asyncio.py\", line 205, in start\n",
      "    self.asyncio_loop.run_forever()\n",
      "  File \"/opt/anaconda3/envs/marbet/lib/python3.10/asyncio/base_events.py\", line 603, in run_forever\n",
      "    self._run_once()\n",
      "  File \"/opt/anaconda3/envs/marbet/lib/python3.10/asyncio/base_events.py\", line 1909, in _run_once\n",
      "    handle._run()\n",
      "  File \"/opt/anaconda3/envs/marbet/lib/python3.10/asyncio/events.py\", line 80, in _run\n",
      "    self._context.run(self._callback, *self._args)\n",
      "  File \"/opt/anaconda3/envs/marbet/lib/python3.10/site-packages/ipykernel/kernelbase.py\", line 545, in dispatch_queue\n",
      "    await self.process_one()\n",
      "  File \"/opt/anaconda3/envs/marbet/lib/python3.10/site-packages/ipykernel/kernelbase.py\", line 534, in process_one\n",
      "    await dispatch(*args)\n",
      "  File \"/opt/anaconda3/envs/marbet/lib/python3.10/site-packages/ipykernel/kernelbase.py\", line 437, in dispatch_shell\n",
      "    await result\n",
      "  File \"/opt/anaconda3/envs/marbet/lib/python3.10/site-packages/ipykernel/ipkernel.py\", line 362, in execute_request\n",
      "    await super().execute_request(stream, ident, parent)\n",
      "  File \"/opt/anaconda3/envs/marbet/lib/python3.10/site-packages/ipykernel/kernelbase.py\", line 778, in execute_request\n",
      "    reply_content = await reply_content\n",
      "  File \"/opt/anaconda3/envs/marbet/lib/python3.10/site-packages/ipykernel/ipkernel.py\", line 449, in do_execute\n",
      "    res = shell.run_cell(\n",
      "  File \"/opt/anaconda3/envs/marbet/lib/python3.10/site-packages/ipykernel/zmqshell.py\", line 549, in run_cell\n",
      "    return super().run_cell(*args, **kwargs)\n",
      "  File \"/opt/anaconda3/envs/marbet/lib/python3.10/site-packages/IPython/core/interactiveshell.py\", line 3077, in run_cell\n",
      "    result = self._run_cell(\n",
      "  File \"/opt/anaconda3/envs/marbet/lib/python3.10/site-packages/IPython/core/interactiveshell.py\", line 3132, in _run_cell\n",
      "    result = runner(coro)\n",
      "  File \"/opt/anaconda3/envs/marbet/lib/python3.10/site-packages/IPython/core/async_helpers.py\", line 128, in _pseudo_sync_runner\n",
      "    coro.send(None)\n",
      "  File \"/opt/anaconda3/envs/marbet/lib/python3.10/site-packages/IPython/core/interactiveshell.py\", line 3336, in run_cell_async\n",
      "    has_raised = await self.run_ast_nodes(code_ast.body, cell_name,\n",
      "  File \"/opt/anaconda3/envs/marbet/lib/python3.10/site-packages/IPython/core/interactiveshell.py\", line 3519, in run_ast_nodes\n",
      "    if await self.run_code(code, result, async_=asy):\n",
      "  File \"/opt/anaconda3/envs/marbet/lib/python3.10/site-packages/IPython/core/interactiveshell.py\", line 3579, in run_code\n",
      "    exec(code_obj, self.user_global_ns, self.user_ns)\n",
      "  File \"/var/folders/p4/qvcmr5mj6kgbm2y6xz9gvs1h0000gn/T/ipykernel_30150/3255613910.py\", line 2, in <module>\n",
      "    vector_store = DocArrayInMemorySearch.from_documents(documents=content, embedding=embedding)\n",
      "  File \"/opt/anaconda3/envs/marbet/lib/python3.10/site-packages/langchain_core/vectorstores/base.py\", line 848, in from_documents\n",
      "    return cls.from_texts(texts, embedding, metadatas=metadatas, **kwargs)\n",
      "  File \"/opt/anaconda3/envs/marbet/lib/python3.10/site-packages/langchain_community/vectorstores/docarray/in_memory.py\", line 67, in from_texts\n",
      "    store = cls.from_params(embedding, **kwargs)\n",
      "  File \"/opt/anaconda3/envs/marbet/lib/python3.10/site-packages/langchain_community/vectorstores/docarray/in_memory.py\", line 40, in from_params\n",
      "    _check_docarray_import()\n",
      "  File \"/opt/anaconda3/envs/marbet/lib/python3.10/site-packages/langchain_community/vectorstores/docarray/base.py\", line 19, in _check_docarray_import\n",
      "    import docarray\n",
      "  File \"/opt/anaconda3/envs/marbet/lib/python3.10/site-packages/docarray/__init__.py\", line 20, in <module>\n",
      "    from docarray.array import DocList, DocVec\n",
      "  File \"/opt/anaconda3/envs/marbet/lib/python3.10/site-packages/docarray/array/__init__.py\", line 16, in <module>\n",
      "    from docarray.array.any_array import AnyDocArray\n",
      "  File \"/opt/anaconda3/envs/marbet/lib/python3.10/site-packages/docarray/array/any_array.py\", line 23, in <module>\n",
      "    from docarray.base_doc.doc import BaseDocWithoutId\n",
      "  File \"/opt/anaconda3/envs/marbet/lib/python3.10/site-packages/docarray/base_doc/__init__.py\", line 16, in <module>\n",
      "    from docarray.base_doc.any_doc import AnyDoc\n",
      "  File \"/opt/anaconda3/envs/marbet/lib/python3.10/site-packages/docarray/base_doc/any_doc.py\", line 5, in <module>\n",
      "    from .doc import BaseDoc\n",
      "  File \"/opt/anaconda3/envs/marbet/lib/python3.10/site-packages/docarray/base_doc/doc.py\", line 36, in <module>\n",
      "    from docarray.base_doc.mixins import IOMixin, UpdateMixin\n",
      "  File \"/opt/anaconda3/envs/marbet/lib/python3.10/site-packages/docarray/base_doc/mixins/__init__.py\", line 16, in <module>\n",
      "    from docarray.base_doc.mixins.io import IOMixin\n",
      "  File \"/opt/anaconda3/envs/marbet/lib/python3.10/site-packages/docarray/base_doc/mixins/io.py\", line 25, in <module>\n",
      "    from docarray.typing import NdArray\n",
      "  File \"/opt/anaconda3/envs/marbet/lib/python3.10/site-packages/docarray/typing/__init__.py\", line 3, in <module>\n",
      "    from docarray.typing.bytes import AudioBytes, ImageBytes, VideoBytes\n",
      "  File \"/opt/anaconda3/envs/marbet/lib/python3.10/site-packages/docarray/typing/bytes/__init__.py\", line 16, in <module>\n",
      "    from docarray.typing.bytes.audio_bytes import AudioBytes\n",
      "  File \"/opt/anaconda3/envs/marbet/lib/python3.10/site-packages/docarray/typing/bytes/audio_bytes.py\", line 9, in <module>\n",
      "    from docarray.typing.tensor.audio import AudioNdArray\n",
      "  File \"/opt/anaconda3/envs/marbet/lib/python3.10/site-packages/docarray/typing/tensor/__init__.py\", line 5, in <module>\n",
      "    from docarray.typing.tensor.audio import AudioNdArray\n",
      "  File \"/opt/anaconda3/envs/marbet/lib/python3.10/site-packages/docarray/typing/tensor/audio/__init__.py\", line 4, in <module>\n",
      "    from docarray.typing.tensor.audio.audio_ndarray import AudioNdArray\n",
      "  File \"/opt/anaconda3/envs/marbet/lib/python3.10/site-packages/docarray/typing/tensor/audio/audio_ndarray.py\", line 2, in <module>\n",
      "    from docarray.typing.tensor.audio.abstract_audio_tensor import AbstractAudioTensor\n",
      "  File \"/opt/anaconda3/envs/marbet/lib/python3.10/site-packages/docarray/typing/tensor/audio/abstract_audio_tensor.py\", line 6, in <module>\n",
      "    from docarray.utils._internal.misc import import_library, is_notebook\n",
      "  File \"/opt/anaconda3/envs/marbet/lib/python3.10/site-packages/docarray/utils/_internal/misc.py\", line 10, in <module>\n",
      "    import torch  # noqa: F401\n",
      "  File \"/opt/anaconda3/envs/marbet/lib/python3.10/site-packages/torch/__init__.py\", line 1477, in <module>\n",
      "    from .functional import *  # noqa: F403\n",
      "  File \"/opt/anaconda3/envs/marbet/lib/python3.10/site-packages/torch/functional.py\", line 9, in <module>\n",
      "    import torch.nn.functional as F\n",
      "  File \"/opt/anaconda3/envs/marbet/lib/python3.10/site-packages/torch/nn/__init__.py\", line 1, in <module>\n",
      "    from .modules import *  # noqa: F403\n",
      "  File \"/opt/anaconda3/envs/marbet/lib/python3.10/site-packages/torch/nn/modules/__init__.py\", line 35, in <module>\n",
      "    from .transformer import TransformerEncoder, TransformerDecoder, \\\n",
      "  File \"/opt/anaconda3/envs/marbet/lib/python3.10/site-packages/torch/nn/modules/transformer.py\", line 20, in <module>\n",
      "    device: torch.device = torch.device(torch._C._get_default_device()),  # torch.device('cpu'),\n",
      "/opt/anaconda3/envs/marbet/lib/python3.10/site-packages/torch/nn/modules/transformer.py:20: UserWarning: Failed to initialize NumPy: _ARRAY_API not found (Triggered internally at /Users/runner/work/pytorch/pytorch/pytorch/torch/csrc/utils/tensor_numpy.cpp:84.)\n",
      "  device: torch.device = torch.device(torch._C._get_default_device()),  # torch.device('cpu'),\n",
      "/opt/anaconda3/envs/marbet/lib/python3.10/site-packages/pydantic/_migration.py:283: UserWarning: `pydantic.error_wrappers:ValidationError` has been moved to `pydantic:ValidationError`.\n",
      "  warnings.warn(f'`{import_path}` has been moved to `{new_location}`.')\n"
     ]
    }
   ],
   "source": [
    "embedding = OllamaEmbeddings(model=\"mxbai-embed-large:latest\")\n",
    "vector_store = DocArrayInMemorySearch.from_documents(documents=content, embedding=embedding)\n",
    "retriever = vector_store.as_retriever()\n"
   ]
  },
  {
   "cell_type": "code",
   "execution_count": 12,
   "id": "0cd17ede",
   "metadata": {},
   "outputs": [
    {
     "name": "stderr",
     "output_type": "stream",
     "text": [
      "/var/folders/p4/qvcmr5mj6kgbm2y6xz9gvs1h0000gn/T/ipykernel_30150/3679773359.py:17: LangChainDeprecationWarning: The class `LLMChain` was deprecated in LangChain 0.1.17 and will be removed in 1.0. Use :meth:`~RunnableSequence, e.g., `prompt | llm`` instead.\n",
      "  chain = LLMChain(llm=model, prompt=prompt)\n"
     ]
    }
   ],
   "source": [
    "template = \"\"\"\n",
    "You are an assistant for guests attending a Marbet event.\n",
    "\n",
    "Only use the provided context to answer the question. Be concise and to the point.\n",
    "Do not guess or make up information. \n",
    "If the answer is not in the context, say:\n",
    "\"I don't know. Please contact +49 791 49380 100 or info@marbet.com. Our website: www.marbet.com — the team will be happy to help you.\"\n",
    "\n",
    "Context:\n",
    "{context}\n",
    "\n",
    "Question: {question}\n",
    "Answer (max 2-3 sentences):\n",
    "\"\"\"\n",
    "\n",
    "prompt = PromptTemplate(input_variables=[\"context\", \"question\"], template=template)\n",
    "chain = LLMChain(llm=model, prompt=prompt)\n"
   ]
  },
  {
   "cell_type": "code",
   "execution_count": 16,
   "id": "750a3eb3",
   "metadata": {},
   "outputs": [
    {
     "name": "stdout",
     "output_type": "stream",
     "text": [
      "Question: how to alert the medical team?\n",
      "Answer: {'context': 'A\\n\\nAlarm  \\nMedical emergency: To alert a medical team, there is an alarm button on the phone in your suite.  \\nGeneral Alarm: As soon as the general alarm sounds, please follow the instructions and announcements on board.\\nImportant notes\\n\\nThe general emergency signal consists of 7 short and one long tone, which sounds over the ship\\'s loudspeaker system. As soon as you hear this signal, even if the yacht is in port, please return to your cabin immediately. Please put on your lifejacket and warm clothing (Personal Survival Kit) and go to your assembly point, which is also indicated on your door.\\nFirst aid  \\nIf you need first aid or other medical assistance, please contact Guest Services, the medical center on deck 3 or one of the crew members.\\n\\nF\\n\\nBinoculars  \\nAll suites are equipped with binoculars for use during the cruise equipped. Please bring these to return to your suite at the end of the journey.\\nSee [travel.jpeg][travel2.jpeg] for the travel form fields.\\n\\nEmergency contact\\nPlease enter an emergency contact at home and click [NEXT]:\\na) Surname and first name\\nb) E-mail address\\nc) Country code and telephone number without \"0\"\\n\\nSee [emergency.jpeg] for the form layout.', 'question': 'how to alert the medical team?', 'text': \"To alert a medical team, please use the alarm button on your suite's phone. This will activate the alarm system which alerts the crew and medical center staff of any medical emergencies.\"}\n",
      "\n",
      "Question: where is the gym?\n",
      "Answer: {'context': 'Fitness Center  \\nThe fitness center is located on deck 7 in the middle of the ship. This includes a PURE (yoga and Pilates) and POWER gym. You can find the opening times in your Daily Wonder TV program.\\n\\nH\\n\\nHair dryer  \\nA Dyson hairdryer can be found either on the washbasin or in the drawer in the bathroom cabinet.\\n\\nBreakfast  \\nAn extensive breakfast is available at the Yacht Club & Azure Café & Bar. You can find the dining times in your Daily Wonder TV program.\\n\\nG\\nFITNESS / WELLNESS\\n\\n- Personal Training – 60 / 30 min – $127 / $75\\n- Personal Yoga / Pilates / TRX Session – 60 / 30 min – $127 / $75\\n- Back Pain Free with exercise (PT session) – 30 min – $75\\n- Back Pain Free with exercise Course of 3 – 30 min – $199\\n- Sound Vibration Leg-Relax Therapy * – 45 / 30 min – $119 / $99\\n- Therabody Relax Lounger (Sound & vibration therapy) – 45 / 30 min – $65 / $49\\n\\n(* On selected vessels only – please check availability at Spa Reception)\\nMedical center  \\nOur medical center on deck 3 is staffed by a doctor and a nurse. It is equipped for most medical emergencies and everyday consultations. Consultations are available in the morning and afternoon. You can find the times in your Daily Wonder TV program.\\n\\nMinibar  \\nThe contents of the minibar are free of charge and are replenished daily.\\n\\nP\\n\\nPools  \\nThere is a pool in the Senses Spa on deck 6 and 2 Jacuzzis on the sun deck | deck 10.\\n\\nR\\nPanorama Bar, on deck 10 - is stylishly furnished and equipped with indoor and outdoor seating as well as sun loungers and 2 Jacuzzis. The perfect place to enjoy a cocktail or drink of your choice', 'question': 'where is the gym?', 'text': 'The fitness center, including both PURE (yoga and Pilates) and POWER gyms, can be found on deck 7 in the middle of the ship. You can find the opening times in your Daily Wonder TV program.'}\n",
      "\n",
      "Question: where is the pool?\n",
      "Answer: {'context': '✓ Rain jacket\\n✓ Headgear (sun hat, cap, baseball cap or similar)\\n✓ Sunglasses\\n✓ Swimsuit / bikini or swimming trunks (note: plunge pool in the spa\\n/ 2 Jacuzzis on deck 10)\\nPlease also note the other clothing instructions in your personal agenda! We \\nrecommend carrying an outfit in your hand luggage on arrival and departure in \\ncase you want to freshen up on the way.\\nMaximum amount of liquids in hand baggage: Each individual container may only\\nPanorama Bar, on deck 10 - is stylishly furnished and equipped with indoor and outdoor seating as well as sun loungers and 2 Jacuzzis. The perfect place to enjoy a cocktail or drink of your choice\\nThe following small things can m a k e  your time on site more pleasant:\\n✓ Daypack for excursions\\n✓ Sportswear if applicable (please note the information in your personal\\nagenda)\\n✓ Charging cable for smartphone (and possibly tablet)\\n✓ Optional: socket adapter (for charging in between, there are Euro plugs\\non the Scenic Eclipse)\\n✓ Powerbank\\n✓ Headphones\\n\\n\\n--- SPA_services ---\\n\\nfile4.txt\\nSPA TREATMENTS\\nFitness Center  \\nThe fitness center is located on deck 7 in the middle of the ship. This includes a PURE (yoga and Pilates) and POWER gym. You can find the opening times in your Daily Wonder TV program.\\n\\nH\\n\\nHair dryer  \\nA Dyson hairdryer can be found either on the washbasin or in the drawer in the bathroom cabinet.\\n\\nBreakfast  \\nAn extensive breakfast is available at the Yacht Club & Azure Café & Bar. You can find the dining times in your Daily Wonder TV program.\\n\\nG', 'question': 'where is the pool?', 'text': 'The pool location could not be found within the provided context, but it was mentioned that there are two Jacuzzis on deck 10 and a plunge pool in one of the spa areas. However, the exact name or description of this area as \"pool\" is missing from the text. It might be located in another part of the ship, such as the spa area.'}\n",
      "\n"
     ]
    }
   ],
   "source": [
    "questions = [\n",
    "    \"how to alert the medical team?\",\n",
    "    \"where is the gym?\",\n",
    "    \"where is the pool?\"\n",
    "]\n",
    "\n",
    "for q in questions:\n",
    "    retrieved_docs = retriever.invoke(q)\n",
    "    context = \"\\n\".join([doc.page_content for doc in retrieved_docs])\n",
    "\n",
    "    if not retrieved_docs or context.strip() == \"\":\n",
    "        print(f\"Question: {q}\\nAnswer: I don't know. Please contact +49 791 49380 100 or info@marbet.com. Website: www.marbet.com\\n\")\n",
    "    else:\n",
    "        response = chain.invoke({\"context\": context, \"question\": q})\n",
    "        print(f\"Question: {q}\\nAnswer: {response}\\n\")\n"
   ]
  }
 ],
 "metadata": {
  "kernelspec": {
   "display_name": "marbet",
   "language": "python",
   "name": "python3"
  },
  "language_info": {
   "codemirror_mode": {
    "name": "ipython",
    "version": 3
   },
   "file_extension": ".py",
   "mimetype": "text/x-python",
   "name": "python",
   "nbconvert_exporter": "python",
   "pygments_lexer": "ipython3",
   "version": "3.10.16"
  }
 },
 "nbformat": 4,
 "nbformat_minor": 5
}
