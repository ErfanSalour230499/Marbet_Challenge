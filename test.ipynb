{
 "cells": [
  {
   "cell_type": "code",
   "execution_count": 1,
   "id": "182f40e9",
   "metadata": {},
   "outputs": [
    {
     "data": {
      "text/plain": [
       "ListResponse(models=[Model(model='qwen2.5:32b-instruct-q4_1', modified_at=datetime.datetime(2025, 4, 25, 9, 41, 1, 650438, tzinfo=TzInfo(UTC)), digest='c35507089a57bef7b5936876775a7820c129896f0079c5841e7e1f9ee2c0e953', size=20639256227, details=ModelDetails(parent_model='', format='gguf', family='qwen2', families=['qwen2'], parameter_size='32.8B', quantization_level='Q4_1')), Model(model='llama3.1:70b-instruct-q4_K_M', modified_at=datetime.datetime(2025, 4, 25, 9, 30, 31, 734453, tzinfo=TzInfo(UTC)), digest='711a9e8463afd8edd580debd3b5c521521ebe55ba95bb80d576f4149969e07c6', size=42520412561, details=ModelDetails(parent_model='', format='gguf', family='llama', families=['llama'], parameter_size='70.6B', quantization_level='Q4_K_M')), Model(model='llama3.2:latest', modified_at=datetime.datetime(2025, 4, 25, 9, 17, 35, 646471, tzinfo=TzInfo(UTC)), digest='a80c4f17acd55265feec403c7aef86be0c25983ab279d83f3bcd3abbcb5b8b72', size=2019393189, details=ModelDetails(parent_model='', format='gguf', family='llama', families=['llama'], parameter_size='3.2B', quantization_level='Q4_K_M')), Model(model='deepseek-r1:8b', modified_at=datetime.datetime(2025, 4, 24, 13, 22, 28, 416132, tzinfo=TzInfo(UTC)), digest='28f8fd6cdc677661426adab9338ce3c013d7e69a5bea9e704b364171a5d61a10', size=4920738407, details=ModelDetails(parent_model='', format='gguf', family='llama', families=['llama'], parameter_size='8.0B', quantization_level='Q4_K_M')), Model(model='deepseek-r1:70b', modified_at=datetime.datetime(2025, 4, 24, 13, 3, 16, 104158, tzinfo=TzInfo(UTC)), digest='0c1615a8ca32ef41e433aa420558b4685f9fc7f3fd74119860a8e2e389cd7942', size=42520397704, details=ModelDetails(parent_model='', format='gguf', family='llama', families=['llama'], parameter_size='70.6B', quantization_level='Q4_K_M')), Model(model='deepseek-r1:1.5b', modified_at=datetime.datetime(2025, 4, 24, 10, 31, 48, 360369, tzinfo=TzInfo(UTC)), digest='a42b25d8c10a841bd24724309898ae851466696a7d7f3a0a408b895538ccbc96', size=1117322599, details=ModelDetails(parent_model='', format='gguf', family='qwen2', families=['qwen2'], parameter_size='1.8B', quantization_level='Q4_K_M')), Model(model='qwen2.5:7b', modified_at=datetime.datetime(2025, 4, 23, 13, 0, 0, 710164, tzinfo=TzInfo(UTC)), digest='845dbda0ea48ed749caafd9e6037047aa19acfcfd82e704d7ca97d631a0b697e', size=4683087332, details=ModelDetails(parent_model='', format='gguf', family='qwen2', families=['qwen2'], parameter_size='7.6B', quantization_level='Q4_K_M')), Model(model='llama3.1:8b-instruct-q8_0', modified_at=datetime.datetime(2025, 4, 18, 17, 15, 58, 867815, tzinfo=TzInfo(UTC)), digest='b158ded76fa05be6bce8a682099ce5df8c5571340a04cf63a2923464679db576', size=8540789934, details=ModelDetails(parent_model='', format='gguf', family='llama', families=['llama'], parameter_size='8.0B', quantization_level='Q8_0')), Model(model='command-r:latest', modified_at=datetime.datetime(2025, 4, 17, 16, 17, 38, 765897, tzinfo=TzInfo(UTC)), digest='7d96360d357f979f63a2be43d5bde200bfcbead950a4072e805d2196ae589aaa', size=18719506654, details=ModelDetails(parent_model='', format='gguf', family='command-r', families=['command-r'], parameter_size='32.3B', quantization_level='Q4_0')), Model(model='deepseek-r1:32b', modified_at=datetime.datetime(2025, 4, 17, 10, 23, 33, 974389, tzinfo=TzInfo(UTC)), digest='38056bbcbb2d068501ecb2d5ea9cea9dd4847465f1ab88c4d4a412a9f7792717', size=19851337640, details=ModelDetails(parent_model='', format='gguf', family='qwen2', families=['qwen2'], parameter_size='32.8B', quantization_level='Q4_K_M')), Model(model='deepseek-r1:14b', modified_at=datetime.datetime(2025, 4, 17, 10, 19, 27, 582395, tzinfo=TzInfo(UTC)), digest='ea35dfe18182f635ee2b214ea30b7520fe1ada68da018f8b395b444b662d4f1a', size=8988112040, details=ModelDetails(parent_model='', format='gguf', family='qwen2', families=['qwen2'], parameter_size='14.8B', quantization_level='Q4_K_M')), Model(model='nemotron-mini:latest', modified_at=datetime.datetime(2025, 4, 17, 1, 40, 29, 235116, tzinfo=TzInfo(UTC)), digest='ed76ab18784f5a01c9ec5b3c250e964d4f9c7a983e59ba041bb995f0fe2e8fb3', size=2697402546, details=ModelDetails(parent_model='', format='gguf', family='nemotron', families=['nemotron'], parameter_size='4.2B', quantization_level='Q4_K_M')), Model(model='llava:13b', modified_at=datetime.datetime(2025, 4, 16, 19, 27, 49, 383634, tzinfo=TzInfo(UTC)), digest='0d0eb4d7f485d7d0a21fd9b0c1d5b04da481d2150a097e81b64acb59758fdef6', size=8011256494, details=ModelDetails(parent_model='', format='gguf', family='llama', families=['llama', 'clip'], parameter_size='13B', quantization_level='Q4_0')), Model(model='llava:7b', modified_at=datetime.datetime(2025, 4, 16, 19, 21, 17, 799643, tzinfo=TzInfo(UTC)), digest='8dd30f6b0cb19f555f2c7a7ebda861449ea2cc76bf1f44e262931f45fc81d081', size=4733363377, details=ModelDetails(parent_model='', format='gguf', family='llama', families=['llama', 'clip'], parameter_size='7B', quantization_level='Q4_0')), Model(model='mxbai-embed-large:latest', modified_at=datetime.datetime(2025, 4, 16, 17, 29, 5, 491799, tzinfo=TzInfo(UTC)), digest='468836162de7f81e041c43663fedbbba921dcea9b9fefea135685a39b2d83dd8', size=669615493, details=ModelDetails(parent_model='', format='gguf', family='bert', families=['bert'], parameter_size='334M', quantization_level='F16')), Model(model='llama3.2:3b', modified_at=datetime.datetime(2025, 4, 16, 13, 48, 18, 116106, tzinfo=TzInfo(UTC)), digest='a80c4f17acd55265feec403c7aef86be0c25983ab279d83f3bcd3abbcb5b8b72', size=2019393189, details=ModelDetails(parent_model='', format='gguf', family='llama', families=['llama'], parameter_size='3.2B', quantization_level='Q4_K_M')), Model(model='mistral:7b', modified_at=datetime.datetime(2025, 4, 15, 13, 43, 30, 338114, tzinfo=TzInfo(UTC)), digest='f974a74358d62a017b37c6f424fcdf2744ca02926c4f952513ddf474b2fa5091', size=4113301824, details=ModelDetails(parent_model='', format='gguf', family='llama', families=['llama'], parameter_size='7.2B', quantization_level='Q4_0')), Model(model='llama3.1:8b', modified_at=datetime.datetime(2025, 4, 15, 10, 12, 54, 482407, tzinfo=TzInfo(UTC)), digest='46e0c10c039e019119339687c3c1757cc81b9da49709a3b3924863ba87ca666e', size=4920753328, details=ModelDetails(parent_model='', format='gguf', family='llama', families=['llama'], parameter_size='8.0B', quantization_level='Q4_K_M')), Model(model='llama3:latest', modified_at=datetime.datetime(2025, 4, 14, 18, 2, 33, 359755, tzinfo=TzInfo(UTC)), digest='365c0bd3c000a25d28ddbf732fe1c6add414de7275464c4e4d1c3b5fcb5d8ad1', size=4661224676, details=ModelDetails(parent_model='', format='gguf', family='llama', families=['llama'], parameter_size='8.0B', quantization_level='Q4_0')), Model(model='llama3:70b-instruct-q5_K_M', modified_at=datetime.datetime(2025, 4, 14, 13, 9, 8, 144163, tzinfo=TzInfo(UTC)), digest='4e84a551486247fcb27ce919d2770b0c1b468768a373c250d3c4708a83a394ed', size=49949829575, details=ModelDetails(parent_model='', format='gguf', family='llama', families=['llama'], parameter_size='70.6B', quantization_level='Q5_K_M')), Model(model='llama3.3:70b-instruct-q5_K_M', modified_at=datetime.datetime(2024, 12, 9, 18, 36, 32, 420565, tzinfo=TzInfo(UTC)), digest='a495e09a05137d0216af9d190425f9c8fd7fa15e5dd581c928e221c3861126b9', size=49949837020, details=ModelDetails(parent_model='', format='gguf', family='llama', families=['llama'], parameter_size='70.6B', quantization_level='Q5_K_M')), Model(model='llama3.3:70b', modified_at=datetime.datetime(2024, 12, 9, 18, 17, 20, 176592, tzinfo=TzInfo(UTC)), digest='a6eb4748fd2990ad2952b2335a95a7f952d1a06119a0aa6a2df6cd052a93a3fa', size=42520413916, details=ModelDetails(parent_model='', format='gguf', family='llama', families=['llama'], parameter_size='70.6B', quantization_level='Q4_K_M')), Model(model='wizardlm2:8x22b', modified_at=datetime.datetime(2024, 10, 22, 13, 38, 18, 550724, tzinfo=TzInfo(UTC)), digest='abda6e58fd1d9c03922ec438ad1fa16fe0f4bcd8408dfc4f22352448708bde30', size=79509225491, details=ModelDetails(parent_model='', format='gguf', family='llama', families=['llama'], parameter_size='141B', quantization_level='Q4_0')), Model(model='llava:34b', modified_at=datetime.datetime(2024, 10, 22, 13, 38, 17, 122724, tzinfo=TzInfo(UTC)), digest='3d2d24f4667475bd28d515495b0dcc03b5a951be261a0babdb82087fc11620ee', size=20166497526, details=ModelDetails(parent_model='', format='gguf', family='llama', families=['llama', 'clip'], parameter_size='34B', quantization_level='Q4_0')), Model(model='llama3.1:70b', modified_at=datetime.datetime(2024, 10, 22, 13, 38, 16, 430724, tzinfo=TzInfo(UTC)), digest='c0df3564cfe84c762092864d37bf9b28276a7d283895242588ffcc7582c98f02', size=39969751439, details=ModelDetails(parent_model='', format='gguf', family='llama', families=['llama'], parameter_size='70.6B', quantization_level='Q4_0')), Model(model='gemma2:27b', modified_at=datetime.datetime(2024, 10, 22, 13, 38, 15, 682724, tzinfo=TzInfo(UTC)), digest='53261bc9c192c1cb5fcc898dd3aa15da093f5ab6f08e17e48cf838bb1c58abfe', size=15628387458, details=ModelDetails(parent_model='', format='gguf', family='gemma2', families=['gemma2'], parameter_size='27.2B', quantization_level='Q4_0'))])"
      ]
     },
     "execution_count": 1,
     "metadata": {},
     "output_type": "execute_result"
    }
   ],
   "source": [
    "from ollama import Client\n",
    "\n",
    "ollama_client = Client(host=\"http://194.171.191.226:3061\")\n",
    "ollama_client.list()\n"
   ]
  },
  {
   "cell_type": "code",
   "execution_count": 2,
   "id": "b8395b16",
   "metadata": {},
   "outputs": [
    {
     "data": {
      "text/plain": [
       "ProgressResponse(status='success', completed=None, total=None, digest=None)"
      ]
     },
     "execution_count": 2,
     "metadata": {},
     "output_type": "execute_result"
    }
   ],
   "source": [
    " ollama_client.pull(\"llama3.2\")"
   ]
  },
  {
   "cell_type": "code",
   "execution_count": 3,
   "id": "f7e3c7ff",
   "metadata": {},
   "outputs": [
    {
     "name": "stdout",
     "output_type": "stream",
     "text": [
      "The sky appears blue to us because of a phenomenon called Rayleigh scattering. Here's what happens:\n",
      "\n",
      "1. **Sunlight enters Earth's atmosphere**: When sunlight enters our atmosphere, it encounters tiny molecules of gases such as nitrogen (N2) and oxygen (O2).\n",
      "2. **Scattering occurs**: These gas molecules scatter the light in all directions. However, they scatter shorter (blue) wavelengths more than longer (red) wavelengths.\n",
      "3. **Blue light is scattered in all directions**: As a result of this scattering, the blue light is distributed throughout the atmosphere and reaches our eyes from all parts of the sky.\n",
      "4. **Our eyes perceive the blue color**: When we look up at the sky, our eyes see the scattered blue light as the dominant color, giving the appearance of a blue sky.\n",
      "\n",
      "This is why the sky typically appears blue during the daytime when the sun is overhead and the atmosphere is illuminated. However, there are some interesting exceptions:\n",
      "\n",
      "* **At sunrise and sunset**, the sky can take on hues of red, orange, and pink. This is because the light has to travel through more of the Earth's atmosphere to reach our eyes, which scatters the shorter blue wavelengths, leaving mainly longer red wavelengths to be seen.\n",
      "* **On cloudy days**, the sky can appear gray or white due to the clouds reflecting sunlight in all directions.\n",
      "\n",
      "So, to summarize: the sky appears blue because of Rayleigh scattering, where tiny molecules in the atmosphere scatter short (blue) wavelengths more than long (red) wavelengths, giving us that beautiful blue hue!\n"
     ]
    }
   ],
   "source": [
    "response = ollama_client.chat(model=\"llama3.1:8b\", messages=[\n",
    "  {\n",
    "    \"role\": \"user\",\n",
    "    \"content\": \"Why is the sky blue?\",\n",
    "  },\n",
    "])\n",
    "print(response[\"message\"][\"content\"])"
   ]
  },
  {
   "cell_type": "code",
   "execution_count": 7,
   "id": "bde46b5e",
   "metadata": {},
   "outputs": [
    {
     "name": "stdout",
     "output_type": "stream",
     "text": [
      "content='Ik hou van programmeren.' additional_kwargs={} response_metadata={'model': 'llama3.1:8b', 'created_at': '2025-04-25T11:19:05.935481569Z', 'done': True, 'done_reason': 'stop', 'total_duration': 3834114488, 'load_duration': 3686485748, 'prompt_eval_count': 35, 'prompt_eval_duration': 31318000, 'eval_count': 8, 'eval_duration': 66879000, 'model_name': 'llama3.1:8b'} id='run-a4de897e-b706-493d-a38d-3487630da7cc-0' usage_metadata={'input_tokens': 35, 'output_tokens': 8, 'total_tokens': 43}\n"
     ]
    }
   ],
   "source": [
    "from langchain_ollama import ChatOllama\n",
    "\n",
    "llm = ChatOllama(\n",
    "    base_url=\"http://194.171.191.226:3061\",\n",
    "    model=\"llama3.1:8b\"\n",
    ")\n",
    "\n",
    "messages = [\n",
    "    (\"system\", \"You are a helpful assistant that translates English to Dutch. Translate the user sentence.\"),\n",
    "    (\"human\", \"I love programming.\"),\n",
    "]\n",
    "\n",
    "ai_msg = llm.invoke(messages)\n",
    "print(ai_msg)"
   ]
  },
  {
   "cell_type": "code",
   "execution_count": null,
   "id": "b801b356",
   "metadata": {},
   "outputs": [],
   "source": []
  }
 ],
 "metadata": {
  "kernelspec": {
   "display_name": "Uni_Environment",
   "language": "python",
   "name": "python3"
  },
  "language_info": {
   "codemirror_mode": {
    "name": "ipython",
    "version": 3
   },
   "file_extension": ".py",
   "mimetype": "text/x-python",
   "name": "python",
   "nbconvert_exporter": "python",
   "pygments_lexer": "ipython3",
   "version": "3.12.9"
  }
 },
 "nbformat": 4,
 "nbformat_minor": 5
}
