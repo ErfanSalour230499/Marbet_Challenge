{
 "cells": [
  {
   "cell_type": "code",
   "execution_count": 1,
   "id": "119b7c9d",
   "metadata": {},
   "outputs": [
    {
     "name": "stdout",
     "output_type": "stream",
     "text": [
      "📄 Re-loading: [' file5.pdf', ' file4.pdf', ' file1.pdf', ' file3.pdf', ' file2.pdf']\n"
     ]
    },
    {
     "name": "stderr",
     "output_type": "stream",
     "text": [
      "/var/folders/pg/p84mgkk57yl870wdg4my_r800000gn/T/ipykernel_48134/2754848288.py:27: LangChainDeprecationWarning: The class `OllamaEmbeddings` was deprecated in LangChain 0.3.1 and will be removed in 1.0.0. An updated version of the class exists in the :class:`~langchain-ollama package and should be used instead. To use it run `pip install -U :class:`~langchain-ollama` and import as `from :class:`~langchain_ollama import OllamaEmbeddings``.\n",
      "  embedding = OllamaEmbeddings(\n"
     ]
    },
    {
     "name": "stdout",
     "output_type": "stream",
     "text": [
      "✅ Vectorstore created and saved to 'vectorstore/'\n"
     ]
    }
   ],
   "source": [
    "# 2_Create_Vectorstore.ipynb\n",
    "\n",
    "import os\n",
    "from langchain_community.vectorstores import FAISS\n",
    "from langchain.embeddings import OllamaEmbeddings\n",
    "from langchain.text_splitter import RecursiveCharacterTextSplitter\n",
    "from langchain.document_loaders import PyPDFLoader\n",
    "\n",
    "# Step 1: Re-load PDFs from disk\n",
    "pdf_files = [f for f in os.listdir() if f.endswith(\".pdf\")]\n",
    "print(\"📄 Re-loading:\", pdf_files)\n",
    "\n",
    "all_docs = []\n",
    "for pdf in pdf_files:\n",
    "    loader = PyPDFLoader(pdf)\n",
    "    documents = loader.load()\n",
    "    all_docs.extend(documents)\n",
    "\n",
    "# Step 2: Split docs\n",
    "splitter = RecursiveCharacterTextSplitter(\n",
    "    chunk_size=500,\n",
    "    chunk_overlap=50\n",
    ")\n",
    "split_docs = splitter.split_documents(all_docs)\n",
    "\n",
    "# Step 3: Create Ollama Embeddings\n",
    "embedding = OllamaEmbeddings(\n",
    "    base_url=\"http://194.171.191.226:3061\",\n",
    "    model=\"mxbai-embed-large\"\n",
    ")\n",
    "\n",
    "# Step 4: Create and save FAISS vectorstore\n",
    "vectorstore = FAISS.from_documents(split_docs, embedding)\n",
    "\n",
    "os.makedirs(\"vectorstore\", exist_ok=True)\n",
    "vectorstore.save_local(\"vectorstore\")\n",
    "\n",
    "print(\"✅ Vectorstore created and saved to 'vectorstore/'\")\n"
   ]
  },
  {
   "cell_type": "code",
   "execution_count": null,
   "id": "76f57a28",
   "metadata": {},
   "outputs": [],
   "source": []
  }
 ],
 "metadata": {
  "kernelspec": {
   "display_name": "Uni_Environment",
   "language": "python",
   "name": "python3"
  },
  "language_info": {
   "codemirror_mode": {
    "name": "ipython",
    "version": 3
   },
   "file_extension": ".py",
   "mimetype": "text/x-python",
   "name": "python",
   "nbconvert_exporter": "python",
   "pygments_lexer": "ipython3",
   "version": "3.12.9"
  }
 },
 "nbformat": 4,
 "nbformat_minor": 5
}
