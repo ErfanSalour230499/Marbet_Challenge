{
 "cells": [
  {
   "cell_type": "code",
   "execution_count": null,
   "id": "f40f9084",
   "metadata": {},
   "outputs": [],
   "source": [
    "import langchain\n",
    "import chromadb\n",
    "import unstructured\n",
    "import pypdf\n",
    "import fitz  \n",
    "import os\n",
    "import numpy"
   ]
  },
  {
   "cell_type": "code",
   "execution_count": null,
   "id": "5a017469",
   "metadata": {},
   "outputs": [],
   "source": [
    "import fitz  \n",
    "import os\n",
    "\n",
    "pdf_files = [' file6.pdf', ' file7.pdf']\n",
    "\n",
    "output_folder = \"extracted_images\"\n",
    "\n",
    "os.makedirs(output_folder, exist_ok=True)\n",
    "image_count = 0\n",
    "\n",
    "for pdf_path in pdf_files:\n",
    "    doc = fitz.open(pdf_path)\n",
    "    print(f\" Processing {pdf_path}...\")\n",
    "\n",
    "    for page_num in range(len(doc)):\n",
    "        page = doc[page_num]\n",
    "        images = page.get_images(full=True)\n",
    "\n",
    "        for img_index, img in enumerate(images):\n",
    "            xref = img[0]\n",
    "            base_image = doc.extract_image(xref)\n",
    "            image_bytes = base_image[\"image\"]\n",
    "            image_ext = base_image[\"ext\"]\n",
    "            file_name = os.path.basename(pdf_path).replace(\".pdf\", \"\")\n",
    "            image_filename = f\"{output_folder}/{file_name}_page{page_num+1}_img{img_index+1}.{image_ext}\"\n",
    "\n",
    "            with open(image_filename, \"wb\") as f:\n",
    "                f.write(image_bytes)\n",
    "            image_count += 1\n",
    "\n",
    "print(f\"\\n Extracted {image_count} image(s) from file6.pdf and file7.pdf into {output_folder}/\")\n"
   ]
  },
  {
   "cell_type": "code",
   "execution_count": null,
   "id": "7d74910e",
   "metadata": {},
   "outputs": [],
   "source": [
    "from langchain_community.document_loaders import PyPDFLoader\n",
    "import os\n",
    "\n",
    "pdf_folder = \"/Users/apple/Documents/GitHub/Marbet_Challenge/rag_bot\"\n",
    "pdf_files = [f for f in os.listdir(pdf_folder) if f.endswith(\".pdf\")]\n",
    "\n",
    "output_folder = os.path.join(pdf_folder, \"extracted_texts\")\n",
    "os.makedirs(output_folder, exist_ok=True)\n",
    "\n",
    "for filename in pdf_files:\n",
    "    pdf_path = os.path.join(pdf_folder, filename)\n",
    "    loader = PyPDFLoader(pdf_path)\n",
    "    docs = loader.load()\n",
    "\n",
    "    combined_text = \"\\n\\n\".join([doc.page_content.strip() for doc in docs])\n",
    "\n",
    "    txt_filename = os.path.splitext(filename)[0] + \".txt\"\n",
    "    output_path = os.path.join(output_folder, txt_filename)\n",
    "\n",
    "    with open(output_path, \"w\", encoding=\"utf-8\") as f:\n",
    "        f.write(combined_text)\n",
    "\n",
    "    print(f\" Clean text saved: {txt_filename}\")\n"
   ]
  },
  {
   "cell_type": "code",
   "execution_count": null,
   "id": "7a061cb9",
   "metadata": {},
   "outputs": [],
   "source": [
    "folder_path = \"/Users/apple/Documents/GitHub/Marbet_Challenge/rag_bot/extracted_texts\"\n",
    "\n",
    "file_names = [\n",
    "    \"guest_WiFi_access.txt\",\n",
    "    \"A-Z_Listing.txt\",\n",
    "    \"Checklist.txt\",\n",
    "    \"SPA_services.txt\",\n",
    "    \"application_process.txt\",\n",
    "    \"entry_Canada.txt\"\n",
    "]\n",
    "\n",
    "output_path = os.path.join(folder_path, \"combined_txt.txt\")\n",
    "\n",
    "with open(output_path, \"w\", encoding=\"utf-8\") as outfile:\n",
    "    for fname in file_names:\n",
    "        file_path = os.path.join(folder_path, fname)\n",
    "        with open(file_path, \"r\", encoding=\"utf-8\") as infile:\n",
    "            outfile.write(f\"\\n\\n--- {fname.replace('.txt','')} ---\\n\\n\")  \n",
    "            outfile.write(infile.read())\n",
    "            outfile.write(\"\\n\")\n",
    "\n",
    "print(\"All files merged into combined_txt.txt\")"
   ]
  },
  {
   "cell_type": "code",
   "execution_count": 2,
   "id": "d44eb985",
   "metadata": {},
   "outputs": [],
   "source": [
    "from langchain_ollama import ChatOllama\n",
    "from langchain.document_loaders import TextLoader\n",
    "from langchain.text_splitter import RecursiveCharacterTextSplitter\n",
    "from langchain.embeddings import OllamaEmbeddings\n",
    "from langchain_community.vectorstores import DocArrayInMemorySearch\n",
    "from langchain.prompts import PromptTemplate\n",
    "from langchain.chains import LLMChain\n"
   ]
  },
  {
   "cell_type": "code",
   "execution_count": 20,
   "id": "9e25bd84",
   "metadata": {},
   "outputs": [
    {
     "name": "stdout",
     "output_type": "stream",
     "text": [
      "content='' additional_kwargs={} response_metadata={'model': 'llama3.2', 'created_at': '2025-04-25T08:33:50.295362666Z', 'done': True, 'done_reason': 'stop', 'total_duration': 64298691, 'load_duration': 49209994, 'prompt_eval_count': 85, 'prompt_eval_duration': 12861000, 'eval_count': 1, 'eval_duration': 22000, 'model_name': 'llama3.2'} id='run-ff8f6906-0fe6-4b65-bfeb-96c130ea1424-0' usage_metadata={'input_tokens': 85, 'output_tokens': 1, 'total_tokens': 86}\n"
     ]
    }
   ],
   "source": [
    "model = ChatOllama(\n",
    "    base_url=\"http://194.171.191.226:3061\",\n",
    "    model=\"llama3.2\",\n",
    "    temperature=0.7,\n",
    "    num_predict=512,\n",
    "    repeat_penalty=1.2,\n",
    ")\n",
    "\n",
    "messages = [\n",
    "    (\"system\",\n",
    "     \"You are the AI core of **Marbet Bot**, a Python service that \"\n",
    "     \"analyzes sports odds and generates betting tips. \"\n",
    "     \"Always:\\n\"\n",
    "     \" • explain in short, clear paragraphs\\n\"\n",
    "     \" • use bullet lists for steps or data outputs\\n\"\n",
    "     \" • speak as if you know Marbet Bot’s codebase and architecture\\n\"\n",
    "     \" • ask for missing details about data sources or endpoints\\n\")\n",
    "]\n",
    "\n",
    "ai_msg = model.invoke(messages)\n",
    "print(ai_msg)"
   ]
  },
  {
   "cell_type": "code",
   "execution_count": 21,
   "id": "b96e70e9",
   "metadata": {},
   "outputs": [],
   "source": [
    "filepath = \"/Users/apple/Documents/GitHub/Marbet_Challenge/rag_bot/combined_txt.txt\"\n",
    "loader = TextLoader(filepath)\n",
    "docs = loader.load()\n",
    "\n",
    "splitter = RecursiveCharacterTextSplitter(chunk_size=500, chunk_overlap=50)\n",
    "content = splitter.split_documents(docs)\n"
   ]
  },
  {
   "cell_type": "code",
   "execution_count": 22,
   "id": "cfd285d5",
   "metadata": {},
   "outputs": [],
   "source": [
    "embedding = OllamaEmbeddings(model=\"mxbai-embed-large:latest\")\n",
    "vector_store = DocArrayInMemorySearch.from_documents(documents=content, embedding=embedding)\n",
    "retriever = vector_store.as_retriever()\n"
   ]
  },
  {
   "cell_type": "code",
   "execution_count": 23,
   "id": "0cd17ede",
   "metadata": {},
   "outputs": [],
   "source": [
    "template = \"\"\"\n",
    "You are an assistant for guests attending a Marbet event.\n",
    "\n",
    "Only use the provided context to answer the question. Be concise and to the point.\n",
    "Do not guess or make up information. \n",
    "If the answer is not in the context, say:\n",
    "\"I don't know. Please contact +49 791 49380 100 or info@marbet.com. Our website: www.marbet.com — the team will be happy to help you.\"\n",
    "\n",
    "Context:\n",
    "{context}\n",
    "\n",
    "Question: {question}\n",
    "Answer (max 2-3 sentences):\n",
    "\"\"\"\n",
    "\n",
    "prompt = PromptTemplate(input_variables=[\"context\", \"question\"], template=template)\n",
    "chain = LLMChain(llm=model, prompt=prompt)\n"
   ]
  },
  {
   "cell_type": "code",
   "execution_count": 24,
   "id": "750a3eb3",
   "metadata": {},
   "outputs": [
    {
     "name": "stdout",
     "output_type": "stream",
     "text": [
      "Question: how to alert the medical team?\n",
      "Answer: {'context': 'A\\n\\nAlarm  \\nMedical emergency: To alert a medical team, there is an alarm button on the phone in your suite.  \\nGeneral Alarm: As soon as the general alarm sounds, please follow the instructions and announcements on board.\\nImportant notes\\n\\nThe general emergency signal consists of 7 short and one long tone, which sounds over the ship\\'s loudspeaker system. As soon as you hear this signal, even if the yacht is in port, please return to your cabin immediately. Please put on your lifejacket and warm clothing (Personal Survival Kit) and go to your assembly point, which is also indicated on your door.\\nFirst aid  \\nIf you need first aid or other medical assistance, please contact Guest Services, the medical center on deck 3 or one of the crew members.\\n\\nF\\n\\nBinoculars  \\nAll suites are equipped with binoculars for use during the cruise equipped. Please bring these to return to your suite at the end of the journey.\\nSee [travel.jpeg][travel2.jpeg] for the travel form fields.\\n\\nEmergency contact\\nPlease enter an emergency contact at home and click [NEXT]:\\na) Surname and first name\\nb) E-mail address\\nc) Country code and telephone number without \"0\"\\n\\nSee [emergency.jpeg] for the form layout.', 'question': 'how to alert the medical team?', 'text': 'To alert a medical team, please press the alarm button on your phone in your suite. This will contact Guest Services or one of the crew members who can assist with any medical emergency. If you are currently on deck and need immediate attention, go to the nearest crew member for assistance.'}\n",
      "\n",
      "Question: where is library?\n",
      "Answer: {'context': '--- Checklist ---\\nSee passport_info.jpeg for an example\\nSee passport_info1.jpeg for guidance\\nFitness Center  \\nThe fitness center is located on deck 7 in the middle of the ship. This includes a PURE (yoga and Pilates) and POWER gym. You can find the opening times in your Daily Wonder TV program.\\n\\nH\\n\\nHair dryer  \\nA Dyson hairdryer can be found either on the washbasin or in the drawer in the bathroom cabinet.\\n\\nBreakfast  \\nAn extensive breakfast is available at the Yacht Club & Azure Café & Bar. You can find the dining times in your Daily Wonder TV program.\\n\\nG\\nPanorama Bar, on deck 10 - is stylishly furnished and equipped with indoor and outdoor seating as well as sun loungers and 2 Jacuzzis. The perfect place to enjoy a cocktail or drink of your choice', 'question': 'where is library?', 'text': \"I don't know. Please contact +49 791 49380 100 or info@marbet.com. Our website: www.marbet.com — the team will be happy to help you.\"}\n",
      "\n",
      "Question: where is the gym?\n",
      "Answer: {'context': 'Fitness Center  \\nThe fitness center is located on deck 7 in the middle of the ship. This includes a PURE (yoga and Pilates) and POWER gym. You can find the opening times in your Daily Wonder TV program.\\n\\nH\\n\\nHair dryer  \\nA Dyson hairdryer can be found either on the washbasin or in the drawer in the bathroom cabinet.\\n\\nBreakfast  \\nAn extensive breakfast is available at the Yacht Club & Azure Café & Bar. You can find the dining times in your Daily Wonder TV program.\\n\\nG\\nFITNESS / WELLNESS\\n\\n- Personal Training – 60 / 30 min – $127 / $75\\n- Personal Yoga / Pilates / TRX Session – 60 / 30 min – $127 / $75\\n- Back Pain Free with exercise (PT session) – 30 min – $75\\n- Back Pain Free with exercise Course of 3 – 30 min – $199\\n- Sound Vibration Leg-Relax Therapy * – 45 / 30 min – $119 / $99\\n- Therabody Relax Lounger (Sound & vibration therapy) – 45 / 30 min – $65 / $49\\n\\n(* On selected vessels only – please check availability at Spa Reception)\\nMedical center  \\nOur medical center on deck 3 is staffed by a doctor and a nurse. It is equipped for most medical emergencies and everyday consultations. Consultations are available in the morning and afternoon. You can find the times in your Daily Wonder TV program.\\n\\nMinibar  \\nThe contents of the minibar are free of charge and are replenished daily.\\n\\nP\\n\\nPools  \\nThere is a pool in the Senses Spa on deck 6 and 2 Jacuzzis on the sun deck | deck 10.\\n\\nR\\nPanorama Bar, on deck 10 - is stylishly furnished and equipped with indoor and outdoor seating as well as sun loungers and 2 Jacuzzis. The perfect place to enjoy a cocktail or drink of your choice', 'question': 'where is the gym?', 'text': \"The fitness center, including a PURE yoga and Pilates area and a POWER gym, can be found on deck 7 in the middle of the ship. The opening times are listed in the Daily Wonder TV program. You'll also find information about personal training sessions available at this location.\"}\n",
      "\n",
      "Question: where is the pool?\n",
      "Answer: {'context': '✓ Rain jacket\\n✓ Headgear (sun hat, cap, baseball cap or similar)\\n✓ Sunglasses\\n✓ Swimsuit / bikini or swimming trunks (note: plunge pool in the spa\\n/ 2 Jacuzzis on deck 10)\\nPlease also note the other clothing instructions in your personal agenda! We \\nrecommend carrying an outfit in your hand luggage on arrival and departure in \\ncase you want to freshen up on the way.\\nMaximum amount of liquids in hand baggage: Each individual container may only\\nPanorama Bar, on deck 10 - is stylishly furnished and equipped with indoor and outdoor seating as well as sun loungers and 2 Jacuzzis. The perfect place to enjoy a cocktail or drink of your choice\\nThe following small things can m a k e  your time on site more pleasant:\\n✓ Daypack for excursions\\n✓ Sportswear if applicable (please note the information in your personal\\nagenda)\\n✓ Charging cable for smartphone (and possibly tablet)\\n✓ Optional: socket adapter (for charging in between, there are Euro plugs\\non the Scenic Eclipse)\\n✓ Powerbank\\n✓ Headphones\\n\\n\\n--- SPA_services ---\\n\\nfile4.txt\\nSPA TREATMENTS\\nFitness Center  \\nThe fitness center is located on deck 7 in the middle of the ship. This includes a PURE (yoga and Pilates) and POWER gym. You can find the opening times in your Daily Wonder TV program.\\n\\nH\\n\\nHair dryer  \\nA Dyson hairdryer can be found either on the washbasin or in the drawer in the bathroom cabinet.\\n\\nBreakfast  \\nAn extensive breakfast is available at the Yacht Club & Azure Café & Bar. You can find the dining times in your Daily Wonder TV program.\\n\\nG', 'question': 'where is the pool?', 'text': \"The Panorama Bar, on deck 10, features a plunge pool and two Jacuzzis. It's also equipped with indoor and outdoor seating areas as well as sun loungers. You can enjoy cocktails or drinks of your choice while taking in the view.\"}\n",
      "\n"
     ]
    }
   ],
   "source": [
    "questions = [\n",
    "    \"how to alert the medical team?\",\n",
    "    \"where is library?\",\n",
    "    \"where is the gym?\",\n",
    "    \"where is the pool?\"\n",
    "]\n",
    "\n",
    "for q in questions:\n",
    "    retrieved_docs = retriever.invoke(q)\n",
    "    context = \"\\n\".join([doc.page_content for doc in retrieved_docs])\n",
    "\n",
    "    if not retrieved_docs or context.strip() == \"\":\n",
    "        print(f\"Question: {q}\\nAnswer: I don't know. Please contact +49 791 49380 100 or info@marbet.com. Website: www.marbet.com\\n\")\n",
    "    else:\n",
    "        response = chain.invoke({\"context\": context, \"question\": q})\n",
    "        print(f\"Question: {q}\\nAnswer: {response}\\n\")\n"
   ]
  }
 ],
 "metadata": {
  "kernelspec": {
   "display_name": "marbet",
   "language": "python",
   "name": "python3"
  },
  "language_info": {
   "codemirror_mode": {
    "name": "ipython",
    "version": 3
   },
   "file_extension": ".py",
   "mimetype": "text/x-python",
   "name": "python",
   "nbconvert_exporter": "python",
   "pygments_lexer": "ipython3",
   "version": "3.10.16"
  }
 },
 "nbformat": 4,
 "nbformat_minor": 5
}
